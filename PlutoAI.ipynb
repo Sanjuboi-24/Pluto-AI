{
  "cells": [
    {
      "cell_type": "code",
      "execution_count": null,
      "metadata": {
        "colab": {
          "base_uri": "https://localhost:8080/"
        },
        "id": "xF_94GqKDwXj",
        "outputId": "c16e688a-0c64-45a5-d1dc-9da82aa568e3"
      },
      "outputs": [
        {
          "name": "stdout",
          "output_type": "stream",
          "text": [
            "Collecting tiktoken\n",
            "  Downloading tiktoken-0.6.0-cp310-cp310-manylinux_2_17_x86_64.manylinux2014_x86_64.whl (1.8 MB)\n",
            "\u001b[?25l     \u001b[90m━━━━━━━━━━━━━━━━━━━━━━━━━━━━━━━━━━━━━━━━\u001b[0m \u001b[32m0.0/1.8 MB\u001b[0m \u001b[31m?\u001b[0m eta \u001b[36m-:--:--\u001b[0m\r\u001b[2K     \u001b[91m╸\u001b[0m\u001b[90m━━━━━━━━━━━━━━━━━━━━━━━━━━━━━━━━━━━━━━━\u001b[0m \u001b[32m0.0/1.8 MB\u001b[0m \u001b[31m1.3 MB/s\u001b[0m eta \u001b[36m0:00:02\u001b[0m\r\u001b[2K     \u001b[91m━━━━━━━━━━━━━\u001b[0m\u001b[90m╺\u001b[0m\u001b[90m━━━━━━━━━━━━━━━━━━━━━━━━━━\u001b[0m \u001b[32m0.6/1.8 MB\u001b[0m \u001b[31m8.6 MB/s\u001b[0m eta \u001b[36m0:00:01\u001b[0m\r\u001b[2K     \u001b[90m━━━━━━━━━━━━━━━━━━━━━━━━━━━━━━━━━━━━━━━━\u001b[0m \u001b[32m1.8/1.8 MB\u001b[0m \u001b[31m17.5 MB/s\u001b[0m eta \u001b[36m0:00:00\u001b[0m\n",
            "\u001b[?25hRequirement already satisfied: regex>=2022.1.18 in /usr/local/lib/python3.10/dist-packages (from tiktoken) (2023.12.25)\n",
            "Requirement already satisfied: requests>=2.26.0 in /usr/local/lib/python3.10/dist-packages (from tiktoken) (2.31.0)\n",
            "Requirement already satisfied: charset-normalizer<4,>=2 in /usr/local/lib/python3.10/dist-packages (from requests>=2.26.0->tiktoken) (3.3.2)\n",
            "Requirement already satisfied: idna<4,>=2.5 in /usr/local/lib/python3.10/dist-packages (from requests>=2.26.0->tiktoken) (3.6)\n",
            "Requirement already satisfied: urllib3<3,>=1.21.1 in /usr/local/lib/python3.10/dist-packages (from requests>=2.26.0->tiktoken) (2.0.7)\n",
            "Requirement already satisfied: certifi>=2017.4.17 in /usr/local/lib/python3.10/dist-packages (from requests>=2.26.0->tiktoken) (2024.2.2)\n",
            "Installing collected packages: tiktoken\n",
            "Successfully installed tiktoken-0.6.0\n"
          ]
        }
      ],
      "source": [
        "!pip install tiktoken"
      ]
    },
    {
      "cell_type": "code",
      "execution_count": null,
      "metadata": {
        "colab": {
          "base_uri": "https://localhost:8080/"
        },
        "id": "Z2NnJY0aJpVu",
        "outputId": "de6ada7b-d889-4938-b092-85313197cbc0"
      },
      "outputs": [
        {
          "name": "stdout",
          "output_type": "stream",
          "text": [
            "Overwriting app.py\n"
          ]
        }
      ],
      "source": [
        "\n",
        "%%writefile app.py\n",
        "import streamlit as st\n",
        "import requests\n",
        "import os\n",
        "from bs4 import BeautifulSoup\n",
        "import openai\n",
        "from openai import OpenAI\n",
        "from langchain.docstore.document import Document\n",
        "from langchain.indexes import VectorstoreIndexCreator\n",
        "from langchain_community.utilities import ApifyWrapper\n",
        "\n",
        "# Load memory\n",
        "os.environ[\"OPENAI_API_KEY\"] = \"your-api-key\"\n",
        "\n",
        "os.environ[\"APIFY_API_TOKEN\"] = \"your_api_key\"\n",
        "\n",
        "apify = ApifyWrapper()\n",
        "\n",
        "run_input = {\n",
        "        \"startUrls\": [{ \"url\": \"https://www.w3schools.com/java/java_intro.asp\" }],\n",
        "        \"startUrls2\": [{ \"url\": \"https://www.w3schools.com/java/java_getstarted.asp\" }],\n",
        "        \"startUrls3\": [{ \"url\": \"https://www.w3schools.com/java/java_syntax.asp\" }],\n",
        "        \"startUrls4\": [{ \"url\": \"https://www.w3schools.com/java/java_output.asp\" }],\n",
        "        \"startUrls5\": [{ \"url\": \"https://www.w3schools.com/java/java_comments.asp\" }],\n",
        "        \"startUrls6\": [{ \"url\": \"https://www.w3schools.com/java/java_variables.asp\" }],\n",
        "        \"startUrls7\": [{ \"url\": \"https://www.w3schools.com/java/java_data_types.asp\" }],\n",
        "        \"startUrls8\": [{ \"url\": \"https://www.w3schools.com/java/java_type_casting.asp\" }],\n",
        "        \"startUrls9\": [{ \"url\": \"https://www.w3schools.com/java/java_operators.asp\" }],\n",
        "        \"startUrls10\": [{ \"url\": \"https://www.w3schools.com/java/java_strings.asp\" }],\n",
        "        \"startUrls11\": [{ \"url\": \"https://www.w3schools.com/java/java_math.asp\" }],\n",
        "        \"startUrls12\": [{ \"url\": \"https://www.w3schools.com/java/java_conditions.asp\"}],\n",
        "        \"startUrls13\": [{ \"url\": \"https://www.w3schools.com/java/java_switch.asp\"}],\n",
        "        \"startUrls14\": [{ \"url\": \"https://www.w3schools.com/java/java_while_loop.asp\"}],\n",
        "        \"startUrls15\": [{ \"url\": \"https://www.w3schools.com/java/java_for_loop.asp\"}],\n",
        "        \"startUrls16\": [{ \"url\": \"https://www.w3schools.com/java/java_break.asp\"}],\n",
        "        \"startUrls17\": [{ \"url\": \"https://www.w3schools.com/java/java_arrays.asp\"}],\n",
        "        \"startUrls18\": [{ \"url\": \"https://www.w3schools.com/java/java_methods.asp\"}],\n",
        "        \"startUrls19\": [{ \"url\": \"https://www.w3schools.com/java/java_methods_param.asp\"}],\n",
        "        \"startUrls20\": [{ \"url\": \"https://www.w3schools.com/java/java_methods_overloading.asp\"}],\n",
        "        \"startUrls21\": [{ \"url\": \"https://www.w3schools.com/java/java_scope.asp\"}],\n",
        "        \"startUrls22\": [{ \"url\": \"https://www.w3schools.com/java/java_oop.asp\"}],\n",
        "        \"startUrls23\": [{ \"url\": \"https://www.w3schools.com/java/java_classes.asp\"}],\n",
        "        \"startUrls24\": [{ \"url\": \"https://www.w3schools.com/java/java_class_attributes.asp\"}],\n",
        "        \"startUrls25\": [{ \"url\": \"https://www.w3schools.com/java/java_class_methods.asp\"}],\n",
        "        \"startUrls26\": [{ \"url\": \"https://www.w3schools.com/java/java_constructors.asp\"}],\n",
        "        \"startUrls27\": [{ \"url\": \"https://www.w3schools.com/java/java_modifiers.asp\"}],\n",
        "        \"startUrls28\": [{ \"url\": \"https://www.w3schools.com/java/java_files.asp\"}],\n",
        "        \"startUrls29\": [{ \"url\": \"https://www.w3schools.com/java/java_files_create.asp\"}],\n",
        "        \"startUrls30\": [{ \"url\": \"https://www.w3schools.com/java/java_files_read.asp\"}],\n",
        "        \"startUrls31\": [{ \"url\": \"https://www.w3schools.com/java/java_howto_add_two_numbers.asp\"}],\n",
        "        \"startUrls32\": [{ \"url\": \"https://www.w3schools.com/java/java_howto_count_words.asp\"}],\n",
        "        \"startUrls33\": [{ \"url\": \"https://www.w3schools.com/java/java_howto_reverse_string.asp\"}],\n",
        "        \"startUrls34\": [{ \"url\": \"https://www.w3schools.com/java/java_howto_sum_of_array_elements.asp\"}],\n",
        "        \"startUrls35\": [{ \"url\": \"https://www.w3schools.com/java/java_howto_area_of_rectangle.asp\"}],\n",
        "        \"startUrls36\": [{ \"url\": \"https://www.w3schools.com/java/java_howto_area_of_rectangle.asp\"}],\n",
        "        \"startUrls37\": [{ \"url\": \"https://www.w3schools.com/java/java_howto_even_or_odd.asp\"}]\n",
        "\n",
        "}\n",
        "  # Call the Actor to obtain text from the crawled webpages\n",
        "loader = apify.call_actor(\n",
        "    actor_id=\"apify/website-content-crawler\",\n",
        "    run_input=run_input,\n",
        "    dataset_mapping_function=lambda item: Document(\n",
        "        page_content=item[\"text\"] or \"\", metadata={\"source\": item[\"url\"]}\n",
        "    ),\n",
        ")\n",
        "\n",
        "  # Create a vector store based on the crawled data\n",
        "index = VectorstoreIndexCreator().from_loaders([loader])\n",
        "\n",
        "def main():\n",
        "  st.title(\"Pluto AI\")\n",
        "  user_input = st.text_input(\"User Input:\")\n",
        "  if st.button(\"Submit\"):\n",
        "      response = index.query(user_input)\n",
        "      st.write(\"Chatbot Response:\", response)\n",
        "\n",
        "if __name__ == \"__main__\":\n",
        "      main()\n"
      ]
    },
    {
      "cell_type": "code",
      "execution_count": null,
      "metadata": {
        "id": "1H8CC1hzRR3I"
      },
      "outputs": [],
      "source": [
        "!streamlit run app.py&>/dev/null&\n"
      ]
    },
    {
      "cell_type": "code",
      "execution_count": null,
      "metadata": {
        "colab": {
          "base_uri": "https://localhost:8080/"
        },
        "id": "DVi9mTLAiVDf",
        "outputId": "e6634491-ea41-4bd3-ac58-56eda1a97ccc"
      },
      "outputs": [
        {
          "name": "stdout",
          "output_type": "stream",
          "text": [
            "6398\n"
          ]
        }
      ],
      "source": [
        "!pgrep streamlit"
      ]
    },
    {
      "cell_type": "code",
      "execution_count": null,
      "metadata": {
        "colab": {
          "base_uri": "https://localhost:8080/"
        },
        "id": "qsCcy8AAiiZE",
        "outputId": "171cba2c-e705-4743-88e4-06b57ca1174e"
      },
      "outputs": [
        {
          "name": "stdout",
          "output_type": "stream",
          "text": [
            "Streamlit app can be accessed at: NgrokTunnel: \"https://f8aa-34-85-154-100.ngrok-free.app\" -> \"http://localhost:8501\"\n"
          ]
        }
      ],
      "source": [
        "\n",
        "\n",
        "\n",
        "# Run ngrok to expose Streamlit app\n",
        "from pyngrok import ngrok\n",
        "# Start ngrok tunnel\n",
        "\n",
        "public_url = ngrok.connect(addr='8501')\n",
        "print(\"Streamlit app can be accessed at:\", public_url)"
      ]
    },
    {
      "cell_type": "code",
      "execution_count": null,
      "metadata": {
        "id": "lsP4_j-f7BHI"
      },
      "outputs": [],
      "source": [
        "!find . -name \\*.pyc -delete"
      ]
    },
    {
      "cell_type": "code",
      "execution_count": null,
      "metadata": {
        "colab": {
          "base_uri": "https://localhost:8080/"
        },
        "id": "DdOR28vN0Tb3",
        "outputId": "f6276a02-127a-4d74-8328-723700fc2b1c"
      },
      "outputs": [
        {
          "name": "stdout",
          "output_type": "stream",
          "text": [
            "update-alternatives: --install needs <link> <name> <path> <priority>\n",
            "\n",
            "Use 'update-alternatives --help' for program usage information.\n"
          ]
        }
      ],
      "source": [
        "!update-alternatives --install /usr/bin/python2 python2.4.2 /usr/bin/python2.4.2"
      ]
    },
    {
      "cell_type": "code",
      "execution_count": null,
      "metadata": {
        "colab": {
          "base_uri": "https://localhost:8080/"
        },
        "id": "IHAdf9FajCZy",
        "outputId": "d0350670-a208-41f1-95ca-7e1ce30882cf"
      },
      "outputs": [
        {
          "name": "stdout",
          "output_type": "stream",
          "text": [
            "Authtoken saved to configuration file: /root/.config/ngrok/ngrok.yml\n"
          ]
        }
      ],
      "source": [
        "!ngrok authtoken your_api_key"
      ]
    }
  ],
  "metadata": {
    "colab": {
      "provenance": []
    },
    "kernelspec": {
      "display_name": "Python 3",
      "name": "python3"
    },
    "language_info": {
      "name": "python"
    }
  },
  "nbformat": 4,
  "nbformat_minor": 0
}
